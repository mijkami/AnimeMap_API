{
 "cells": [
  {
   "cell_type": "markdown",
   "id": "8d268201",
   "metadata": {},
   "source": [
    "Bare minimum for \n",
    "- consumption of model.joblib\n",
    "- export of properly formatted .json"
   ]
  },
  {
   "cell_type": "markdown",
   "id": "3c8348b9",
   "metadata": {},
   "source": [
    "# imports"
   ]
  },
  {
   "cell_type": "markdown",
   "id": "b375ad67",
   "metadata": {},
   "source": [
    "## dependencies"
   ]
  },
  {
   "cell_type": "code",
   "execution_count": 1,
   "id": "972e3d34",
   "metadata": {},
   "outputs": [],
   "source": [
    "import joblib\n",
    "import pandas as pd\n",
    "from sklearn.neighbors import NearestNeighbors\n",
    "\n",
    "\n",
    "MODEL_PATH = \"../data/anime_map_data_animelist_100plus_PG_knn_model.joblib\"\n",
    "ANIME_DF_PATH = \"../data/partial_knn_data/anime_df_relevant_PG.csv\"\n",
    "PIVOT_DF_NAME = \"anime_map_data_animelist_100plus_PG_PCA_vector_df\"\n",
    "ANIME_ID_NAME = \"anime_map_data_animelist_100plus_PG_anime_id_df\""
   ]
  },
  {
   "cell_type": "code",
   "execution_count": null,
   "id": "2add065f",
   "metadata": {},
   "outputs": [],
   "source": []
  },
  {
   "cell_type": "code",
   "execution_count": null,
   "id": "5e85d37d",
   "metadata": {},
   "outputs": [],
   "source": []
  },
  {
   "cell_type": "code",
   "execution_count": 2,
   "id": "79cb9be1",
   "metadata": {},
   "outputs": [],
   "source": [
    "#!pip install scikit-learn==0.24.2"
   ]
  },
  {
   "cell_type": "markdown",
   "id": "e2fc3bfe",
   "metadata": {},
   "source": [
    "## files"
   ]
  },
  {
   "cell_type": "code",
   "execution_count": 2,
   "id": "770e488d",
   "metadata": {},
   "outputs": [],
   "source": [
    "model_path = \"../data/models_anime_map_knn_model.joblib\""
   ]
  },
  {
   "cell_type": "code",
   "execution_count": 7,
   "id": "47da0632",
   "metadata": {},
   "outputs": [],
   "source": [
    "def get_anime():\n",
    "    anime_df_relevant_PG = pd.read_csv(ANIME_DF_PATH)\n",
    "    return anime_df_relevant_PG.rename(columns={'MAL_ID' : 'anime_id'})"
   ]
  },
  {
   "cell_type": "code",
   "execution_count": 8,
   "id": "8095d321",
   "metadata": {},
   "outputs": [],
   "source": [
    "def get_data(name_file):\n",
    "    data = pd.read_csv(f'../data/{name_file}.csv')\n",
    "    return data"
   ]
  },
  {
   "cell_type": "code",
   "execution_count": 9,
   "id": "beb5f096",
   "metadata": {},
   "outputs": [],
   "source": [
    "def get_model(path):\n",
    "    return joblib.load(path)"
   ]
  },
  {
   "cell_type": "code",
   "execution_count": 7,
   "id": "3675c467",
   "metadata": {},
   "outputs": [],
   "source": [
    "def process_data(name_file):\n",
    "    data_users_df = get_data(name_file)\n",
    "    data_users_df['rating'] = data_users_df['rating']/10\n",
    "    \n",
    "    anime_df_relevant_PG = get_anime()\n",
    "    anime_name_df = anime_df_relevant_PG[['anime_id','Name']]\n",
    "    data_users_df_merge = data_users_df.merge(anime_name_df, on = 'anime_id', how='inner')\n",
    "    pivot_df = data_users_df_merge.pivot_table(index='anime_id',columns='user_id',values='rating').fillna(0)\n",
    "    \n",
    "    anime_Genres_df = anime_df_relevant_PG[['anime_id','Genres']]\n",
    "    anime_Genres_df_encoded = pd.concat(objs = [anime_Genres_df.drop(columns = 'Genres', axis =1), anime_Genres_df['Genres'].str.get_dummies(sep=\", \")], axis = 1)\n",
    "    anime_Genres_df_encoded = anime_Genres_df_encoded.set_index('anime_id')\n",
    "    \n",
    "    pivot_df = pivot_df.merge(anime_Genres_df_encoded, how='inner',left_index=True, right_index=True)\n",
    "    anime_name_pivot_df = data_users_df_merge[['anime_id','Name']].drop_duplicates()\n",
    "    anime_name_pivot_df = anime_name_pivot_df.sort_values('anime_id')\n",
    "    anime_name_pivot_df = anime_name_pivot_df.reset_index().drop(columns = 'index')\n",
    "    \n",
    "    return pivot_df, anime_name_pivot_df"
   ]
  },
  {
   "cell_type": "markdown",
   "id": "4eb729a3",
   "metadata": {},
   "source": [
    "# predict"
   ]
  },
  {
   "cell_type": "code",
   "execution_count": 8,
   "id": "f926e261",
   "metadata": {},
   "outputs": [],
   "source": [
    "def recommendation_10PlusRatings(anime_name, nb_recomendation = 10):\n",
    "    pivot_df, anime_name_pivot_df = process_data('active_users_df_10PlusRatings_partial')\n",
    "    model = get_model(model_path)\n",
    "    index_nb = anime_name_pivot_df.index[anime_name_pivot_df['Name'] == anime_name].tolist()[0]\n",
    "    distances, indices = model.kneighbors(pivot_df.iloc[index_nb,:].values.reshape(1, -1), n_neighbors = nb_recomendation + 1)\n",
    "\n",
    "    prediction = []\n",
    "    for i in range(1, len(distances.flatten())):\n",
    "        prediction.append([pivot_df.index[indices.flatten()[i]],distances.flatten()[i]])\n",
    "    results = {}\n",
    "    for i in range(len(prediction)):\n",
    "        anime_name = anime_name_pivot_df.query(f'anime_id == {prediction[i][0]}').iloc[0].Name\n",
    "        distance = prediction[i][1]\n",
    "        results[f'{anime_name}'] = distance\n",
    "    return results"
   ]
  },
  {
   "cell_type": "code",
   "execution_count": 13,
   "id": "5c29bea8",
   "metadata": {
    "scrolled": true
   },
   "outputs": [],
   "source": [
    "predict_Naruto = recommendation_10PlusRatings('Naruto', 30)"
   ]
  },
  {
   "cell_type": "code",
   "execution_count": 14,
   "id": "e368e63e",
   "metadata": {
    "scrolled": true
   },
   "outputs": [
    {
     "data": {
      "text/plain": [
       "{'Naruto: Shippuuden': 0.18049078542744768,\n",
       " 'Death Note': 0.32724375187989996,\n",
       " 'Bleach': 0.35922338431707146,\n",
       " 'Shingeki no Kyojin': 0.3764965221555553,\n",
       " 'Fullmetal Alchemist: Brotherhood': 0.4092187913883153,\n",
       " 'Code Geass: Hangyaku no Lelouch': 0.4141593159792041,\n",
       " 'Sword Art Online': 0.4145034622526954,\n",
       " 'One Piece': 0.4324693299705893,\n",
       " 'Fairy Tail': 0.43374727465720364,\n",
       " 'One Punch Man': 0.440672137299862,\n",
       " 'Code Geass: Hangyaku no Lelouch R2': 0.44317776537599496,\n",
       " 'Tokyo Ghoul': 0.4478750610328671,\n",
       " 'Boku no Hero Academia': 0.4509773475530082,\n",
       " 'Fullmetal Alchemist': 0.45734048611945144,\n",
       " 'Ao no Exorcist': 0.459692800542125,\n",
       " 'Hunter x Hunter (2011)': 0.4624201558967598,\n",
       " 'Angel Beats!': 0.4655259992943921,\n",
       " 'Dragon Ball Z': 0.4667113626750077,\n",
       " 'Boku no Hero Academia 2nd Season': 0.4783955337192296,\n",
       " 'No Game No Life': 0.4788718820530793,\n",
       " 'Toradora!': 0.4801106307799001,\n",
       " 'Highschool of the Dead': 0.48100086207446635,\n",
       " 'Nanatsu no Taizai': 0.48689829546741004,\n",
       " 'Shingeki no Kyojin Season 2': 0.4915849201936243,\n",
       " 'Dragon Ball': 0.49655748096688745,\n",
       " 'Steins;Gate': 0.49761125098822256,\n",
       " 'Kimi no Na wa.': 0.49816763836642963,\n",
       " 'Mirai Nikki': 0.49899928655264003,\n",
       " 'Noragami': 0.499624470310991,\n",
       " 'Soul Eater': 0.4998431131507832}"
      ]
     },
     "execution_count": 14,
     "metadata": {},
     "output_type": "execute_result"
    }
   ],
   "source": [
    "predict_Naruto"
   ]
  },
  {
   "cell_type": "markdown",
   "id": "ef37a581",
   "metadata": {
    "heading_collapsed": true
   },
   "source": [
    "### Export model.joblib as pickle / sav file"
   ]
  },
  {
   "cell_type": "code",
   "execution_count": 97,
   "id": "a73ed824",
   "metadata": {
    "hidden": true
   },
   "outputs": [],
   "source": [
    "model_joblib = get_model(model_path)"
   ]
  },
  {
   "cell_type": "code",
   "execution_count": 98,
   "id": "e06f6a80",
   "metadata": {
    "hidden": true
   },
   "outputs": [
    {
     "data": {
      "text/plain": [
       "NearestNeighbors(metric='cosine')"
      ]
     },
     "execution_count": 98,
     "metadata": {},
     "output_type": "execute_result"
    }
   ],
   "source": [
    "model_joblib"
   ]
  },
  {
   "cell_type": "code",
   "execution_count": 99,
   "id": "690e08a2",
   "metadata": {
    "hidden": true
   },
   "outputs": [],
   "source": [
    "import pickle"
   ]
  },
  {
   "cell_type": "code",
   "execution_count": 102,
   "id": "72e133fc",
   "metadata": {
    "hidden": true
   },
   "outputs": [],
   "source": [
    "pickle.dump(model_joblib, open('model.sav',\"wb\"))"
   ]
  },
  {
   "cell_type": "code",
   "execution_count": 103,
   "id": "79806a56",
   "metadata": {
    "hidden": true
   },
   "outputs": [
    {
     "name": "stdout",
     "output_type": "stream",
     "text": [
      "FrontEnd_Explo.ipynb  model.sav\r\n"
     ]
    }
   ],
   "source": [
    "ls"
   ]
  },
  {
   "cell_type": "code",
   "execution_count": 104,
   "id": "e4690c9e",
   "metadata": {
    "hidden": true
   },
   "outputs": [
    {
     "data": {
      "text/plain": [
       "'/home/mijka/code/mijkami/AnimeMap_front/notebook'"
      ]
     },
     "execution_count": 104,
     "metadata": {},
     "output_type": "execute_result"
    }
   ],
   "source": [
    "pwd\n"
   ]
  },
  {
   "cell_type": "code",
   "execution_count": null,
   "id": "be37d463",
   "metadata": {
    "hidden": true
   },
   "outputs": [],
   "source": []
  },
  {
   "cell_type": "markdown",
   "id": "62063e43",
   "metadata": {},
   "source": [
    "# create anime_name_pivot_df"
   ]
  },
  {
   "cell_type": "code",
   "execution_count": null,
   "id": "1aa07f75",
   "metadata": {},
   "outputs": [],
   "source": [
    "RATING_COMPLETED_MODEL_PATH = \"data/anime_map_data_rating_complete_100plus_PG_knn_model.joblib\"\n",
    "RATING_COMPLETED_PIVOT_DF_NAME = \"anime_map_data_rating_complete_100plus_PG_PCA_vector_df\""
   ]
  },
  {
   "cell_type": "code",
   "execution_count": 32,
   "id": "e50716b4",
   "metadata": {},
   "outputs": [],
   "source": [
    "anime_df = get_anime()"
   ]
  },
  {
   "cell_type": "code",
   "execution_count": 33,
   "id": "c84aec20",
   "metadata": {},
   "outputs": [
    {
     "data": {
      "text/html": [
       "<div>\n",
       "<style scoped>\n",
       "    .dataframe tbody tr th:only-of-type {\n",
       "        vertical-align: middle;\n",
       "    }\n",
       "\n",
       "    .dataframe tbody tr th {\n",
       "        vertical-align: top;\n",
       "    }\n",
       "\n",
       "    .dataframe thead th {\n",
       "        text-align: right;\n",
       "    }\n",
       "</style>\n",
       "<table border=\"1\" class=\"dataframe\">\n",
       "  <thead>\n",
       "    <tr style=\"text-align: right;\">\n",
       "      <th></th>\n",
       "      <th>anime_id</th>\n",
       "      <th>Name</th>\n",
       "      <th>Genres</th>\n",
       "      <th>Studios</th>\n",
       "    </tr>\n",
       "  </thead>\n",
       "  <tbody>\n",
       "    <tr>\n",
       "      <th>0</th>\n",
       "      <td>1</td>\n",
       "      <td>Cowboy Bebop</td>\n",
       "      <td>Action, Adventure, Comedy, Drama, Sci-Fi, Space</td>\n",
       "      <td>Sunrise</td>\n",
       "    </tr>\n",
       "    <tr>\n",
       "      <th>1</th>\n",
       "      <td>5</td>\n",
       "      <td>Cowboy Bebop: Tengoku no Tobira</td>\n",
       "      <td>Action, Drama, Mystery, Sci-Fi, Space</td>\n",
       "      <td>Bones</td>\n",
       "    </tr>\n",
       "    <tr>\n",
       "      <th>2</th>\n",
       "      <td>6</td>\n",
       "      <td>Trigun</td>\n",
       "      <td>Action, Sci-Fi, Adventure, Comedy, Drama, Shounen</td>\n",
       "      <td>Madhouse</td>\n",
       "    </tr>\n",
       "    <tr>\n",
       "      <th>3</th>\n",
       "      <td>7</td>\n",
       "      <td>Witch Hunter Robin</td>\n",
       "      <td>Action, Mystery, Police, Supernatural, Drama, ...</td>\n",
       "      <td>Sunrise</td>\n",
       "    </tr>\n",
       "    <tr>\n",
       "      <th>4</th>\n",
       "      <td>8</td>\n",
       "      <td>Bouken Ou Beet</td>\n",
       "      <td>Adventure, Fantasy, Shounen, Supernatural</td>\n",
       "      <td>Toei Animation</td>\n",
       "    </tr>\n",
       "    <tr>\n",
       "      <th>...</th>\n",
       "      <td>...</td>\n",
       "      <td>...</td>\n",
       "      <td>...</td>\n",
       "      <td>...</td>\n",
       "    </tr>\n",
       "    <tr>\n",
       "      <th>11043</th>\n",
       "      <td>47398</td>\n",
       "      <td>Kimetsu Gakuen: Valentine-hen</td>\n",
       "      <td>Comedy</td>\n",
       "      <td>Unknown</td>\n",
       "    </tr>\n",
       "    <tr>\n",
       "      <th>11044</th>\n",
       "      <td>47402</td>\n",
       "      <td>Heikousen</td>\n",
       "      <td>Music, Romance</td>\n",
       "      <td>10Gauge, Studio DURIAN</td>\n",
       "    </tr>\n",
       "    <tr>\n",
       "      <th>11045</th>\n",
       "      <td>47614</td>\n",
       "      <td>Nu Wushen de Canzhuo Spring Festival Special</td>\n",
       "      <td>Slice of Life, Comedy</td>\n",
       "      <td>Unknown</td>\n",
       "    </tr>\n",
       "    <tr>\n",
       "      <th>11046</th>\n",
       "      <td>47616</td>\n",
       "      <td>Yakusoku no Neverland 2nd Season: Michishirube</td>\n",
       "      <td>Mystery, Psychological, Supernatural, Thriller...</td>\n",
       "      <td>CloverWorks</td>\n",
       "    </tr>\n",
       "    <tr>\n",
       "      <th>11047</th>\n",
       "      <td>48456</td>\n",
       "      <td>SK∞: Crazy Rock Jam</td>\n",
       "      <td>Comedy, Sports</td>\n",
       "      <td>Bones</td>\n",
       "    </tr>\n",
       "  </tbody>\n",
       "</table>\n",
       "<p>11048 rows × 4 columns</p>\n",
       "</div>"
      ],
      "text/plain": [
       "       anime_id                                            Name  \\\n",
       "0             1                                    Cowboy Bebop   \n",
       "1             5                 Cowboy Bebop: Tengoku no Tobira   \n",
       "2             6                                          Trigun   \n",
       "3             7                              Witch Hunter Robin   \n",
       "4             8                                  Bouken Ou Beet   \n",
       "...         ...                                             ...   \n",
       "11043     47398                   Kimetsu Gakuen: Valentine-hen   \n",
       "11044     47402                                       Heikousen   \n",
       "11045     47614    Nu Wushen de Canzhuo Spring Festival Special   \n",
       "11046     47616  Yakusoku no Neverland 2nd Season: Michishirube   \n",
       "11047     48456                             SK∞: Crazy Rock Jam   \n",
       "\n",
       "                                                  Genres  \\\n",
       "0        Action, Adventure, Comedy, Drama, Sci-Fi, Space   \n",
       "1                  Action, Drama, Mystery, Sci-Fi, Space   \n",
       "2      Action, Sci-Fi, Adventure, Comedy, Drama, Shounen   \n",
       "3      Action, Mystery, Police, Supernatural, Drama, ...   \n",
       "4              Adventure, Fantasy, Shounen, Supernatural   \n",
       "...                                                  ...   \n",
       "11043                                             Comedy   \n",
       "11044                                     Music, Romance   \n",
       "11045                              Slice of Life, Comedy   \n",
       "11046  Mystery, Psychological, Supernatural, Thriller...   \n",
       "11047                                     Comedy, Sports   \n",
       "\n",
       "                      Studios  \n",
       "0                     Sunrise  \n",
       "1                       Bones  \n",
       "2                    Madhouse  \n",
       "3                     Sunrise  \n",
       "4              Toei Animation  \n",
       "...                       ...  \n",
       "11043                 Unknown  \n",
       "11044  10Gauge, Studio DURIAN  \n",
       "11045                 Unknown  \n",
       "11046             CloverWorks  \n",
       "11047                   Bones  \n",
       "\n",
       "[11048 rows x 4 columns]"
      ]
     },
     "execution_count": 33,
     "metadata": {},
     "output_type": "execute_result"
    }
   ],
   "source": [
    "anime_df"
   ]
  },
  {
   "cell_type": "code",
   "execution_count": 34,
   "id": "caba857c",
   "metadata": {},
   "outputs": [],
   "source": [
    "ANIME_ID_COMPLETE_NAME = 'anime_map_data_rating_complete_100plus_PG_anime_id_df'\n",
    "anime_id_completed = get_data(ANIME_ID_COMPLETE_NAME)"
   ]
  },
  {
   "cell_type": "code",
   "execution_count": 35,
   "id": "47299143",
   "metadata": {},
   "outputs": [
    {
     "data": {
      "text/html": [
       "<div>\n",
       "<style scoped>\n",
       "    .dataframe tbody tr th:only-of-type {\n",
       "        vertical-align: middle;\n",
       "    }\n",
       "\n",
       "    .dataframe tbody tr th {\n",
       "        vertical-align: top;\n",
       "    }\n",
       "\n",
       "    .dataframe thead th {\n",
       "        text-align: right;\n",
       "    }\n",
       "</style>\n",
       "<table border=\"1\" class=\"dataframe\">\n",
       "  <thead>\n",
       "    <tr style=\"text-align: right;\">\n",
       "      <th></th>\n",
       "      <th>anime_id</th>\n",
       "    </tr>\n",
       "  </thead>\n",
       "  <tbody>\n",
       "    <tr>\n",
       "      <th>0</th>\n",
       "      <td>1</td>\n",
       "    </tr>\n",
       "    <tr>\n",
       "      <th>1</th>\n",
       "      <td>5</td>\n",
       "    </tr>\n",
       "    <tr>\n",
       "      <th>2</th>\n",
       "      <td>6</td>\n",
       "    </tr>\n",
       "    <tr>\n",
       "      <th>3</th>\n",
       "      <td>7</td>\n",
       "    </tr>\n",
       "    <tr>\n",
       "      <th>4</th>\n",
       "      <td>8</td>\n",
       "    </tr>\n",
       "    <tr>\n",
       "      <th>...</th>\n",
       "      <td>...</td>\n",
       "    </tr>\n",
       "    <tr>\n",
       "      <th>10942</th>\n",
       "      <td>47398</td>\n",
       "    </tr>\n",
       "    <tr>\n",
       "      <th>10943</th>\n",
       "      <td>47402</td>\n",
       "    </tr>\n",
       "    <tr>\n",
       "      <th>10944</th>\n",
       "      <td>47614</td>\n",
       "    </tr>\n",
       "    <tr>\n",
       "      <th>10945</th>\n",
       "      <td>47616</td>\n",
       "    </tr>\n",
       "    <tr>\n",
       "      <th>10946</th>\n",
       "      <td>48456</td>\n",
       "    </tr>\n",
       "  </tbody>\n",
       "</table>\n",
       "<p>10947 rows × 1 columns</p>\n",
       "</div>"
      ],
      "text/plain": [
       "       anime_id\n",
       "0             1\n",
       "1             5\n",
       "2             6\n",
       "3             7\n",
       "4             8\n",
       "...         ...\n",
       "10942     47398\n",
       "10943     47402\n",
       "10944     47614\n",
       "10945     47616\n",
       "10946     48456\n",
       "\n",
       "[10947 rows x 1 columns]"
      ]
     },
     "execution_count": 35,
     "metadata": {},
     "output_type": "execute_result"
    }
   ],
   "source": [
    "anime_id_completed"
   ]
  },
  {
   "cell_type": "code",
   "execution_count": 36,
   "id": "070c2bf0",
   "metadata": {},
   "outputs": [],
   "source": [
    "anime_name_pivot_completed_df = anime_id_completed.merge(anime_df[['anime_id', \"Name\"]], on='anime_id', how='inner')"
   ]
  },
  {
   "cell_type": "code",
   "execution_count": 37,
   "id": "78cb964c",
   "metadata": {},
   "outputs": [
    {
     "data": {
      "text/html": [
       "<div>\n",
       "<style scoped>\n",
       "    .dataframe tbody tr th:only-of-type {\n",
       "        vertical-align: middle;\n",
       "    }\n",
       "\n",
       "    .dataframe tbody tr th {\n",
       "        vertical-align: top;\n",
       "    }\n",
       "\n",
       "    .dataframe thead th {\n",
       "        text-align: right;\n",
       "    }\n",
       "</style>\n",
       "<table border=\"1\" class=\"dataframe\">\n",
       "  <thead>\n",
       "    <tr style=\"text-align: right;\">\n",
       "      <th></th>\n",
       "      <th>anime_id</th>\n",
       "      <th>Name</th>\n",
       "    </tr>\n",
       "  </thead>\n",
       "  <tbody>\n",
       "    <tr>\n",
       "      <th>0</th>\n",
       "      <td>1</td>\n",
       "      <td>Cowboy Bebop</td>\n",
       "    </tr>\n",
       "    <tr>\n",
       "      <th>1</th>\n",
       "      <td>5</td>\n",
       "      <td>Cowboy Bebop: Tengoku no Tobira</td>\n",
       "    </tr>\n",
       "    <tr>\n",
       "      <th>2</th>\n",
       "      <td>6</td>\n",
       "      <td>Trigun</td>\n",
       "    </tr>\n",
       "    <tr>\n",
       "      <th>3</th>\n",
       "      <td>7</td>\n",
       "      <td>Witch Hunter Robin</td>\n",
       "    </tr>\n",
       "    <tr>\n",
       "      <th>4</th>\n",
       "      <td>8</td>\n",
       "      <td>Bouken Ou Beet</td>\n",
       "    </tr>\n",
       "    <tr>\n",
       "      <th>...</th>\n",
       "      <td>...</td>\n",
       "      <td>...</td>\n",
       "    </tr>\n",
       "    <tr>\n",
       "      <th>10942</th>\n",
       "      <td>47398</td>\n",
       "      <td>Kimetsu Gakuen: Valentine-hen</td>\n",
       "    </tr>\n",
       "    <tr>\n",
       "      <th>10943</th>\n",
       "      <td>47402</td>\n",
       "      <td>Heikousen</td>\n",
       "    </tr>\n",
       "    <tr>\n",
       "      <th>10944</th>\n",
       "      <td>47614</td>\n",
       "      <td>Nu Wushen de Canzhuo Spring Festival Special</td>\n",
       "    </tr>\n",
       "    <tr>\n",
       "      <th>10945</th>\n",
       "      <td>47616</td>\n",
       "      <td>Yakusoku no Neverland 2nd Season: Michishirube</td>\n",
       "    </tr>\n",
       "    <tr>\n",
       "      <th>10946</th>\n",
       "      <td>48456</td>\n",
       "      <td>SK∞: Crazy Rock Jam</td>\n",
       "    </tr>\n",
       "  </tbody>\n",
       "</table>\n",
       "<p>10947 rows × 2 columns</p>\n",
       "</div>"
      ],
      "text/plain": [
       "       anime_id                                            Name\n",
       "0             1                                    Cowboy Bebop\n",
       "1             5                 Cowboy Bebop: Tengoku no Tobira\n",
       "2             6                                          Trigun\n",
       "3             7                              Witch Hunter Robin\n",
       "4             8                                  Bouken Ou Beet\n",
       "...         ...                                             ...\n",
       "10942     47398                   Kimetsu Gakuen: Valentine-hen\n",
       "10943     47402                                       Heikousen\n",
       "10944     47614    Nu Wushen de Canzhuo Spring Festival Special\n",
       "10945     47616  Yakusoku no Neverland 2nd Season: Michishirube\n",
       "10946     48456                             SK∞: Crazy Rock Jam\n",
       "\n",
       "[10947 rows x 2 columns]"
      ]
     },
     "execution_count": 37,
     "metadata": {},
     "output_type": "execute_result"
    }
   ],
   "source": [
    "anime_name_pivot_completed_df"
   ]
  },
  {
   "cell_type": "code",
   "execution_count": null,
   "id": "8cd6fda2",
   "metadata": {},
   "outputs": [],
   "source": []
  },
  {
   "cell_type": "code",
   "execution_count": 52,
   "id": "a8447cb8",
   "metadata": {},
   "outputs": [
    {
     "data": {
      "text/html": [
       "<div>\n",
       "<style scoped>\n",
       "    .dataframe tbody tr th:only-of-type {\n",
       "        vertical-align: middle;\n",
       "    }\n",
       "\n",
       "    .dataframe tbody tr th {\n",
       "        vertical-align: top;\n",
       "    }\n",
       "\n",
       "    .dataframe thead th {\n",
       "        text-align: right;\n",
       "    }\n",
       "</style>\n",
       "<table border=\"1\" class=\"dataframe\">\n",
       "  <thead>\n",
       "    <tr style=\"text-align: right;\">\n",
       "      <th></th>\n",
       "      <th>anime_id</th>\n",
       "      <th>Name</th>\n",
       "    </tr>\n",
       "  </thead>\n",
       "  <tbody>\n",
       "    <tr>\n",
       "      <th>0</th>\n",
       "      <td>1</td>\n",
       "      <td>Cowboy Bebop</td>\n",
       "    </tr>\n",
       "    <tr>\n",
       "      <th>1</th>\n",
       "      <td>5</td>\n",
       "      <td>Cowboy Bebop: Tengoku no Tobira</td>\n",
       "    </tr>\n",
       "    <tr>\n",
       "      <th>2</th>\n",
       "      <td>6</td>\n",
       "      <td>Trigun</td>\n",
       "    </tr>\n",
       "    <tr>\n",
       "      <th>3</th>\n",
       "      <td>7</td>\n",
       "      <td>Witch Hunter Robin</td>\n",
       "    </tr>\n",
       "    <tr>\n",
       "      <th>4</th>\n",
       "      <td>8</td>\n",
       "      <td>Bouken Ou Beet</td>\n",
       "    </tr>\n",
       "    <tr>\n",
       "      <th>...</th>\n",
       "      <td>...</td>\n",
       "      <td>...</td>\n",
       "    </tr>\n",
       "    <tr>\n",
       "      <th>10942</th>\n",
       "      <td>47398</td>\n",
       "      <td>Kimetsu Gakuen: Valentine-hen</td>\n",
       "    </tr>\n",
       "    <tr>\n",
       "      <th>10943</th>\n",
       "      <td>47402</td>\n",
       "      <td>Heikousen</td>\n",
       "    </tr>\n",
       "    <tr>\n",
       "      <th>10944</th>\n",
       "      <td>47614</td>\n",
       "      <td>Nu Wushen de Canzhuo Spring Festival Special</td>\n",
       "    </tr>\n",
       "    <tr>\n",
       "      <th>10945</th>\n",
       "      <td>47616</td>\n",
       "      <td>Yakusoku no Neverland 2nd Season: Michishirube</td>\n",
       "    </tr>\n",
       "    <tr>\n",
       "      <th>10946</th>\n",
       "      <td>48456</td>\n",
       "      <td>SK∞: Crazy Rock Jam</td>\n",
       "    </tr>\n",
       "  </tbody>\n",
       "</table>\n",
       "<p>10947 rows × 2 columns</p>\n",
       "</div>"
      ],
      "text/plain": [
       "       anime_id                                            Name\n",
       "0             1                                    Cowboy Bebop\n",
       "1             5                 Cowboy Bebop: Tengoku no Tobira\n",
       "2             6                                          Trigun\n",
       "3             7                              Witch Hunter Robin\n",
       "4             8                                  Bouken Ou Beet\n",
       "...         ...                                             ...\n",
       "10942     47398                   Kimetsu Gakuen: Valentine-hen\n",
       "10943     47402                                       Heikousen\n",
       "10944     47614    Nu Wushen de Canzhuo Spring Festival Special\n",
       "10945     47616  Yakusoku no Neverland 2nd Season: Michishirube\n",
       "10946     48456                             SK∞: Crazy Rock Jam\n",
       "\n",
       "[10947 rows x 2 columns]"
      ]
     },
     "execution_count": 52,
     "metadata": {},
     "output_type": "execute_result"
    }
   ],
   "source": [
    "anime_name_pivot_completed_df"
   ]
  },
  {
   "cell_type": "code",
   "execution_count": 53,
   "id": "94b0841a",
   "metadata": {},
   "outputs": [],
   "source": [
    "anime_name_pivot_completed_df.to_csv('../data/anime_map_data_rating_complete_100plus_PG_anime_name_pivot_df.csv', index=False)"
   ]
  },
  {
   "cell_type": "code",
   "execution_count": 39,
   "id": "b592f8d4",
   "metadata": {},
   "outputs": [
    {
     "data": {
      "text/html": [
       "<div>\n",
       "<style scoped>\n",
       "    .dataframe tbody tr th:only-of-type {\n",
       "        vertical-align: middle;\n",
       "    }\n",
       "\n",
       "    .dataframe tbody tr th {\n",
       "        vertical-align: top;\n",
       "    }\n",
       "\n",
       "    .dataframe thead th {\n",
       "        text-align: right;\n",
       "    }\n",
       "</style>\n",
       "<table border=\"1\" class=\"dataframe\">\n",
       "  <thead>\n",
       "    <tr style=\"text-align: right;\">\n",
       "      <th></th>\n",
       "      <th>anime_id</th>\n",
       "      <th>Name</th>\n",
       "    </tr>\n",
       "  </thead>\n",
       "  <tbody>\n",
       "    <tr>\n",
       "      <th>0</th>\n",
       "      <td>1</td>\n",
       "      <td>Cowboy Bebop</td>\n",
       "    </tr>\n",
       "    <tr>\n",
       "      <th>1</th>\n",
       "      <td>5</td>\n",
       "      <td>Cowboy Bebop: Tengoku no Tobira</td>\n",
       "    </tr>\n",
       "    <tr>\n",
       "      <th>2</th>\n",
       "      <td>6</td>\n",
       "      <td>Trigun</td>\n",
       "    </tr>\n",
       "    <tr>\n",
       "      <th>3</th>\n",
       "      <td>7</td>\n",
       "      <td>Witch Hunter Robin</td>\n",
       "    </tr>\n",
       "    <tr>\n",
       "      <th>4</th>\n",
       "      <td>8</td>\n",
       "      <td>Bouken Ou Beet</td>\n",
       "    </tr>\n",
       "    <tr>\n",
       "      <th>...</th>\n",
       "      <td>...</td>\n",
       "      <td>...</td>\n",
       "    </tr>\n",
       "    <tr>\n",
       "      <th>10942</th>\n",
       "      <td>47398</td>\n",
       "      <td>Kimetsu Gakuen: Valentine-hen</td>\n",
       "    </tr>\n",
       "    <tr>\n",
       "      <th>10943</th>\n",
       "      <td>47402</td>\n",
       "      <td>Heikousen</td>\n",
       "    </tr>\n",
       "    <tr>\n",
       "      <th>10944</th>\n",
       "      <td>47614</td>\n",
       "      <td>Nu Wushen de Canzhuo Spring Festival Special</td>\n",
       "    </tr>\n",
       "    <tr>\n",
       "      <th>10945</th>\n",
       "      <td>47616</td>\n",
       "      <td>Yakusoku no Neverland 2nd Season: Michishirube</td>\n",
       "    </tr>\n",
       "    <tr>\n",
       "      <th>10946</th>\n",
       "      <td>48456</td>\n",
       "      <td>SK∞: Crazy Rock Jam</td>\n",
       "    </tr>\n",
       "  </tbody>\n",
       "</table>\n",
       "<p>10947 rows × 2 columns</p>\n",
       "</div>"
      ],
      "text/plain": [
       "       anime_id                                            Name\n",
       "0             1                                    Cowboy Bebop\n",
       "1             5                 Cowboy Bebop: Tengoku no Tobira\n",
       "2             6                                          Trigun\n",
       "3             7                              Witch Hunter Robin\n",
       "4             8                                  Bouken Ou Beet\n",
       "...         ...                                             ...\n",
       "10942     47398                   Kimetsu Gakuen: Valentine-hen\n",
       "10943     47402                                       Heikousen\n",
       "10944     47614    Nu Wushen de Canzhuo Spring Festival Special\n",
       "10945     47616  Yakusoku no Neverland 2nd Season: Michishirube\n",
       "10946     48456                             SK∞: Crazy Rock Jam\n",
       "\n",
       "[10947 rows x 2 columns]"
      ]
     },
     "execution_count": 39,
     "metadata": {},
     "output_type": "execute_result"
    }
   ],
   "source": [
    "anime_name_pivot_completed_df"
   ]
  },
  {
   "cell_type": "code",
   "execution_count": null,
   "id": "af4868e2",
   "metadata": {},
   "outputs": [],
   "source": []
  },
  {
   "cell_type": "code",
   "execution_count": null,
   "id": "3002f239",
   "metadata": {},
   "outputs": [],
   "source": []
  },
  {
   "cell_type": "code",
   "execution_count": null,
   "id": "93062b5c",
   "metadata": {},
   "outputs": [],
   "source": []
  },
  {
   "cell_type": "code",
   "execution_count": 10,
   "id": "a3544f3a",
   "metadata": {},
   "outputs": [],
   "source": [
    "anime_id = get_data(ANIME_ID_NAME)\n",
    "anime_df = get_anime()\n",
    "anime_name_pivot_df = anime_id.merge(anime_df, on='anime_id', how='inner')"
   ]
  },
  {
   "cell_type": "code",
   "execution_count": 11,
   "id": "74efe91f",
   "metadata": {
    "scrolled": true
   },
   "outputs": [
    {
     "data": {
      "text/html": [
       "<div>\n",
       "<style scoped>\n",
       "    .dataframe tbody tr th:only-of-type {\n",
       "        vertical-align: middle;\n",
       "    }\n",
       "\n",
       "    .dataframe tbody tr th {\n",
       "        vertical-align: top;\n",
       "    }\n",
       "\n",
       "    .dataframe thead th {\n",
       "        text-align: right;\n",
       "    }\n",
       "</style>\n",
       "<table border=\"1\" class=\"dataframe\">\n",
       "  <thead>\n",
       "    <tr style=\"text-align: right;\">\n",
       "      <th></th>\n",
       "      <th>anime_id</th>\n",
       "    </tr>\n",
       "  </thead>\n",
       "  <tbody>\n",
       "    <tr>\n",
       "      <th>0</th>\n",
       "      <td>1</td>\n",
       "    </tr>\n",
       "    <tr>\n",
       "      <th>1</th>\n",
       "      <td>5</td>\n",
       "    </tr>\n",
       "    <tr>\n",
       "      <th>2</th>\n",
       "      <td>6</td>\n",
       "    </tr>\n",
       "    <tr>\n",
       "      <th>3</th>\n",
       "      <td>7</td>\n",
       "    </tr>\n",
       "    <tr>\n",
       "      <th>4</th>\n",
       "      <td>8</td>\n",
       "    </tr>\n",
       "    <tr>\n",
       "      <th>...</th>\n",
       "      <td>...</td>\n",
       "    </tr>\n",
       "    <tr>\n",
       "      <th>11043</th>\n",
       "      <td>47398</td>\n",
       "    </tr>\n",
       "    <tr>\n",
       "      <th>11044</th>\n",
       "      <td>47402</td>\n",
       "    </tr>\n",
       "    <tr>\n",
       "      <th>11045</th>\n",
       "      <td>47614</td>\n",
       "    </tr>\n",
       "    <tr>\n",
       "      <th>11046</th>\n",
       "      <td>47616</td>\n",
       "    </tr>\n",
       "    <tr>\n",
       "      <th>11047</th>\n",
       "      <td>48456</td>\n",
       "    </tr>\n",
       "  </tbody>\n",
       "</table>\n",
       "<p>11048 rows × 1 columns</p>\n",
       "</div>"
      ],
      "text/plain": [
       "       anime_id\n",
       "0             1\n",
       "1             5\n",
       "2             6\n",
       "3             7\n",
       "4             8\n",
       "...         ...\n",
       "11043     47398\n",
       "11044     47402\n",
       "11045     47614\n",
       "11046     47616\n",
       "11047     48456\n",
       "\n",
       "[11048 rows x 1 columns]"
      ]
     },
     "execution_count": 11,
     "metadata": {},
     "output_type": "execute_result"
    }
   ],
   "source": [
    "anime_id"
   ]
  },
  {
   "cell_type": "code",
   "execution_count": 12,
   "id": "04608410",
   "metadata": {},
   "outputs": [
    {
     "data": {
      "text/html": [
       "<div>\n",
       "<style scoped>\n",
       "    .dataframe tbody tr th:only-of-type {\n",
       "        vertical-align: middle;\n",
       "    }\n",
       "\n",
       "    .dataframe tbody tr th {\n",
       "        vertical-align: top;\n",
       "    }\n",
       "\n",
       "    .dataframe thead th {\n",
       "        text-align: right;\n",
       "    }\n",
       "</style>\n",
       "<table border=\"1\" class=\"dataframe\">\n",
       "  <thead>\n",
       "    <tr style=\"text-align: right;\">\n",
       "      <th></th>\n",
       "      <th>anime_id</th>\n",
       "      <th>Name</th>\n",
       "      <th>Genres</th>\n",
       "      <th>Studios</th>\n",
       "    </tr>\n",
       "  </thead>\n",
       "  <tbody>\n",
       "    <tr>\n",
       "      <th>0</th>\n",
       "      <td>1</td>\n",
       "      <td>Cowboy Bebop</td>\n",
       "      <td>Action, Adventure, Comedy, Drama, Sci-Fi, Space</td>\n",
       "      <td>Sunrise</td>\n",
       "    </tr>\n",
       "    <tr>\n",
       "      <th>1</th>\n",
       "      <td>5</td>\n",
       "      <td>Cowboy Bebop: Tengoku no Tobira</td>\n",
       "      <td>Action, Drama, Mystery, Sci-Fi, Space</td>\n",
       "      <td>Bones</td>\n",
       "    </tr>\n",
       "    <tr>\n",
       "      <th>2</th>\n",
       "      <td>6</td>\n",
       "      <td>Trigun</td>\n",
       "      <td>Action, Sci-Fi, Adventure, Comedy, Drama, Shounen</td>\n",
       "      <td>Madhouse</td>\n",
       "    </tr>\n",
       "    <tr>\n",
       "      <th>3</th>\n",
       "      <td>7</td>\n",
       "      <td>Witch Hunter Robin</td>\n",
       "      <td>Action, Mystery, Police, Supernatural, Drama, ...</td>\n",
       "      <td>Sunrise</td>\n",
       "    </tr>\n",
       "    <tr>\n",
       "      <th>4</th>\n",
       "      <td>8</td>\n",
       "      <td>Bouken Ou Beet</td>\n",
       "      <td>Adventure, Fantasy, Shounen, Supernatural</td>\n",
       "      <td>Toei Animation</td>\n",
       "    </tr>\n",
       "    <tr>\n",
       "      <th>...</th>\n",
       "      <td>...</td>\n",
       "      <td>...</td>\n",
       "      <td>...</td>\n",
       "      <td>...</td>\n",
       "    </tr>\n",
       "    <tr>\n",
       "      <th>11043</th>\n",
       "      <td>47398</td>\n",
       "      <td>Kimetsu Gakuen: Valentine-hen</td>\n",
       "      <td>Comedy</td>\n",
       "      <td>Unknown</td>\n",
       "    </tr>\n",
       "    <tr>\n",
       "      <th>11044</th>\n",
       "      <td>47402</td>\n",
       "      <td>Heikousen</td>\n",
       "      <td>Music, Romance</td>\n",
       "      <td>10Gauge, Studio DURIAN</td>\n",
       "    </tr>\n",
       "    <tr>\n",
       "      <th>11045</th>\n",
       "      <td>47614</td>\n",
       "      <td>Nu Wushen de Canzhuo Spring Festival Special</td>\n",
       "      <td>Slice of Life, Comedy</td>\n",
       "      <td>Unknown</td>\n",
       "    </tr>\n",
       "    <tr>\n",
       "      <th>11046</th>\n",
       "      <td>47616</td>\n",
       "      <td>Yakusoku no Neverland 2nd Season: Michishirube</td>\n",
       "      <td>Mystery, Psychological, Supernatural, Thriller...</td>\n",
       "      <td>CloverWorks</td>\n",
       "    </tr>\n",
       "    <tr>\n",
       "      <th>11047</th>\n",
       "      <td>48456</td>\n",
       "      <td>SK∞: Crazy Rock Jam</td>\n",
       "      <td>Comedy, Sports</td>\n",
       "      <td>Bones</td>\n",
       "    </tr>\n",
       "  </tbody>\n",
       "</table>\n",
       "<p>11048 rows × 4 columns</p>\n",
       "</div>"
      ],
      "text/plain": [
       "       anime_id                                            Name  \\\n",
       "0             1                                    Cowboy Bebop   \n",
       "1             5                 Cowboy Bebop: Tengoku no Tobira   \n",
       "2             6                                          Trigun   \n",
       "3             7                              Witch Hunter Robin   \n",
       "4             8                                  Bouken Ou Beet   \n",
       "...         ...                                             ...   \n",
       "11043     47398                   Kimetsu Gakuen: Valentine-hen   \n",
       "11044     47402                                       Heikousen   \n",
       "11045     47614    Nu Wushen de Canzhuo Spring Festival Special   \n",
       "11046     47616  Yakusoku no Neverland 2nd Season: Michishirube   \n",
       "11047     48456                             SK∞: Crazy Rock Jam   \n",
       "\n",
       "                                                  Genres  \\\n",
       "0        Action, Adventure, Comedy, Drama, Sci-Fi, Space   \n",
       "1                  Action, Drama, Mystery, Sci-Fi, Space   \n",
       "2      Action, Sci-Fi, Adventure, Comedy, Drama, Shounen   \n",
       "3      Action, Mystery, Police, Supernatural, Drama, ...   \n",
       "4              Adventure, Fantasy, Shounen, Supernatural   \n",
       "...                                                  ...   \n",
       "11043                                             Comedy   \n",
       "11044                                     Music, Romance   \n",
       "11045                              Slice of Life, Comedy   \n",
       "11046  Mystery, Psychological, Supernatural, Thriller...   \n",
       "11047                                     Comedy, Sports   \n",
       "\n",
       "                      Studios  \n",
       "0                     Sunrise  \n",
       "1                       Bones  \n",
       "2                    Madhouse  \n",
       "3                     Sunrise  \n",
       "4              Toei Animation  \n",
       "...                       ...  \n",
       "11043                 Unknown  \n",
       "11044  10Gauge, Studio DURIAN  \n",
       "11045                 Unknown  \n",
       "11046             CloverWorks  \n",
       "11047                   Bones  \n",
       "\n",
       "[11048 rows x 4 columns]"
      ]
     },
     "execution_count": 12,
     "metadata": {},
     "output_type": "execute_result"
    }
   ],
   "source": [
    "anime_df"
   ]
  },
  {
   "cell_type": "code",
   "execution_count": 14,
   "id": "74a61d5e",
   "metadata": {},
   "outputs": [],
   "source": [
    "anime_name_pivot_df = anime_name_pivot_df[['anime_id', \"Name\"]]"
   ]
  },
  {
   "cell_type": "code",
   "execution_count": 45,
   "id": "2661c901",
   "metadata": {},
   "outputs": [
    {
     "data": {
      "text/html": [
       "<div>\n",
       "<style scoped>\n",
       "    .dataframe tbody tr th:only-of-type {\n",
       "        vertical-align: middle;\n",
       "    }\n",
       "\n",
       "    .dataframe tbody tr th {\n",
       "        vertical-align: top;\n",
       "    }\n",
       "\n",
       "    .dataframe thead th {\n",
       "        text-align: right;\n",
       "    }\n",
       "</style>\n",
       "<table border=\"1\" class=\"dataframe\">\n",
       "  <thead>\n",
       "    <tr style=\"text-align: right;\">\n",
       "      <th></th>\n",
       "      <th>anime_id</th>\n",
       "      <th>Name</th>\n",
       "    </tr>\n",
       "  </thead>\n",
       "  <tbody>\n",
       "    <tr>\n",
       "      <th>0</th>\n",
       "      <td>1</td>\n",
       "      <td>Cowboy Bebop</td>\n",
       "    </tr>\n",
       "    <tr>\n",
       "      <th>1</th>\n",
       "      <td>5</td>\n",
       "      <td>Cowboy Bebop: Tengoku no Tobira</td>\n",
       "    </tr>\n",
       "    <tr>\n",
       "      <th>2</th>\n",
       "      <td>6</td>\n",
       "      <td>Trigun</td>\n",
       "    </tr>\n",
       "    <tr>\n",
       "      <th>3</th>\n",
       "      <td>7</td>\n",
       "      <td>Witch Hunter Robin</td>\n",
       "    </tr>\n",
       "    <tr>\n",
       "      <th>4</th>\n",
       "      <td>8</td>\n",
       "      <td>Bouken Ou Beet</td>\n",
       "    </tr>\n",
       "    <tr>\n",
       "      <th>...</th>\n",
       "      <td>...</td>\n",
       "      <td>...</td>\n",
       "    </tr>\n",
       "    <tr>\n",
       "      <th>11043</th>\n",
       "      <td>47398</td>\n",
       "      <td>Kimetsu Gakuen: Valentine-hen</td>\n",
       "    </tr>\n",
       "    <tr>\n",
       "      <th>11044</th>\n",
       "      <td>47402</td>\n",
       "      <td>Heikousen</td>\n",
       "    </tr>\n",
       "    <tr>\n",
       "      <th>11045</th>\n",
       "      <td>47614</td>\n",
       "      <td>Nu Wushen de Canzhuo Spring Festival Special</td>\n",
       "    </tr>\n",
       "    <tr>\n",
       "      <th>11046</th>\n",
       "      <td>47616</td>\n",
       "      <td>Yakusoku no Neverland 2nd Season: Michishirube</td>\n",
       "    </tr>\n",
       "    <tr>\n",
       "      <th>11047</th>\n",
       "      <td>48456</td>\n",
       "      <td>SK∞: Crazy Rock Jam</td>\n",
       "    </tr>\n",
       "  </tbody>\n",
       "</table>\n",
       "<p>11048 rows × 2 columns</p>\n",
       "</div>"
      ],
      "text/plain": [
       "       anime_id                                            Name\n",
       "0             1                                    Cowboy Bebop\n",
       "1             5                 Cowboy Bebop: Tengoku no Tobira\n",
       "2             6                                          Trigun\n",
       "3             7                              Witch Hunter Robin\n",
       "4             8                                  Bouken Ou Beet\n",
       "...         ...                                             ...\n",
       "11043     47398                   Kimetsu Gakuen: Valentine-hen\n",
       "11044     47402                                       Heikousen\n",
       "11045     47614    Nu Wushen de Canzhuo Spring Festival Special\n",
       "11046     47616  Yakusoku no Neverland 2nd Season: Michishirube\n",
       "11047     48456                             SK∞: Crazy Rock Jam\n",
       "\n",
       "[11048 rows x 2 columns]"
      ]
     },
     "execution_count": 45,
     "metadata": {},
     "output_type": "execute_result"
    }
   ],
   "source": [
    "anime_name_pivot_df"
   ]
  },
  {
   "cell_type": "code",
   "execution_count": 17,
   "id": "74271fe1",
   "metadata": {},
   "outputs": [],
   "source": [
    "anime_name_pivot_df.to_csv('../data/anime_map_data_animelist_100plus_PG_anime_name_pivot_df.csv', index=False)"
   ]
  },
  {
   "cell_type": "code",
   "execution_count": 18,
   "id": "de2ab724",
   "metadata": {},
   "outputs": [
    {
     "name": "stdout",
     "output_type": "stream",
     "text": [
      "anime_df_relevant_PG.csv\r\n",
      "\u001b[0m\u001b[01;32manime_map_data_animelist_100plus_PG_anime_id_df.csv\u001b[0m*\r\n",
      "anime_map_data_animelist_100plus_PG_anime_name_pivot_df.csv\r\n",
      "\u001b[01;32manime_map_data_animelist_100plus_PG_knn_model.joblib\u001b[0m*\r\n",
      "\u001b[01;32manime_map_data_animelist_100plus_PG_PCA_vector_df.csv\u001b[0m*\r\n",
      "\u001b[01;34mpartial_knn_data\u001b[0m/\r\n"
     ]
    }
   ],
   "source": [
    "ls ../data\n"
   ]
  },
  {
   "cell_type": "code",
   "execution_count": 19,
   "id": "c21fccfd",
   "metadata": {},
   "outputs": [],
   "source": [
    "ANIME_NAME_PIVOT_NAME = \"anime_map_data_animelist_100plus_PG_anime_name_pivot_df\""
   ]
  },
  {
   "cell_type": "code",
   "execution_count": 49,
   "id": "2c57665e",
   "metadata": {},
   "outputs": [],
   "source": [
    "anime_name_pivot_df = get_data(ANIME_NAME_PIVOT_NAME)"
   ]
  },
  {
   "cell_type": "code",
   "execution_count": 23,
   "id": "1d74af41",
   "metadata": {},
   "outputs": [],
   "source": [
    "index_nb = anime_name_pivot_df.index[anime_name_pivot_df['Name'] == 'Naruto'].tolist()[0]"
   ]
  },
  {
   "cell_type": "code",
   "execution_count": 50,
   "id": "2ca09173",
   "metadata": {
    "scrolled": true
   },
   "outputs": [
    {
     "data": {
      "text/html": [
       "<div>\n",
       "<style scoped>\n",
       "    .dataframe tbody tr th:only-of-type {\n",
       "        vertical-align: middle;\n",
       "    }\n",
       "\n",
       "    .dataframe tbody tr th {\n",
       "        vertical-align: top;\n",
       "    }\n",
       "\n",
       "    .dataframe thead th {\n",
       "        text-align: right;\n",
       "    }\n",
       "</style>\n",
       "<table border=\"1\" class=\"dataframe\">\n",
       "  <thead>\n",
       "    <tr style=\"text-align: right;\">\n",
       "      <th></th>\n",
       "      <th>anime_id</th>\n",
       "      <th>Name</th>\n",
       "    </tr>\n",
       "  </thead>\n",
       "  <tbody>\n",
       "    <tr>\n",
       "      <th>0</th>\n",
       "      <td>1</td>\n",
       "      <td>Cowboy Bebop</td>\n",
       "    </tr>\n",
       "    <tr>\n",
       "      <th>1</th>\n",
       "      <td>5</td>\n",
       "      <td>Cowboy Bebop: Tengoku no Tobira</td>\n",
       "    </tr>\n",
       "    <tr>\n",
       "      <th>2</th>\n",
       "      <td>6</td>\n",
       "      <td>Trigun</td>\n",
       "    </tr>\n",
       "    <tr>\n",
       "      <th>3</th>\n",
       "      <td>7</td>\n",
       "      <td>Witch Hunter Robin</td>\n",
       "    </tr>\n",
       "    <tr>\n",
       "      <th>4</th>\n",
       "      <td>8</td>\n",
       "      <td>Bouken Ou Beet</td>\n",
       "    </tr>\n",
       "    <tr>\n",
       "      <th>...</th>\n",
       "      <td>...</td>\n",
       "      <td>...</td>\n",
       "    </tr>\n",
       "    <tr>\n",
       "      <th>11043</th>\n",
       "      <td>47398</td>\n",
       "      <td>Kimetsu Gakuen: Valentine-hen</td>\n",
       "    </tr>\n",
       "    <tr>\n",
       "      <th>11044</th>\n",
       "      <td>47402</td>\n",
       "      <td>Heikousen</td>\n",
       "    </tr>\n",
       "    <tr>\n",
       "      <th>11045</th>\n",
       "      <td>47614</td>\n",
       "      <td>Nu Wushen de Canzhuo Spring Festival Special</td>\n",
       "    </tr>\n",
       "    <tr>\n",
       "      <th>11046</th>\n",
       "      <td>47616</td>\n",
       "      <td>Yakusoku no Neverland 2nd Season: Michishirube</td>\n",
       "    </tr>\n",
       "    <tr>\n",
       "      <th>11047</th>\n",
       "      <td>48456</td>\n",
       "      <td>SK∞: Crazy Rock Jam</td>\n",
       "    </tr>\n",
       "  </tbody>\n",
       "</table>\n",
       "<p>11048 rows × 2 columns</p>\n",
       "</div>"
      ],
      "text/plain": [
       "       anime_id                                            Name\n",
       "0             1                                    Cowboy Bebop\n",
       "1             5                 Cowboy Bebop: Tengoku no Tobira\n",
       "2             6                                          Trigun\n",
       "3             7                              Witch Hunter Robin\n",
       "4             8                                  Bouken Ou Beet\n",
       "...         ...                                             ...\n",
       "11043     47398                   Kimetsu Gakuen: Valentine-hen\n",
       "11044     47402                                       Heikousen\n",
       "11045     47614    Nu Wushen de Canzhuo Spring Festival Special\n",
       "11046     47616  Yakusoku no Neverland 2nd Season: Michishirube\n",
       "11047     48456                             SK∞: Crazy Rock Jam\n",
       "\n",
       "[11048 rows x 2 columns]"
      ]
     },
     "execution_count": 50,
     "metadata": {},
     "output_type": "execute_result"
    }
   ],
   "source": [
    "anime_name_pivot_df"
   ]
  },
  {
   "cell_type": "code",
   "execution_count": 51,
   "id": "1a7669ba",
   "metadata": {},
   "outputs": [
    {
     "data": {
      "text/html": [
       "<div>\n",
       "<style scoped>\n",
       "    .dataframe tbody tr th:only-of-type {\n",
       "        vertical-align: middle;\n",
       "    }\n",
       "\n",
       "    .dataframe tbody tr th {\n",
       "        vertical-align: top;\n",
       "    }\n",
       "\n",
       "    .dataframe thead th {\n",
       "        text-align: right;\n",
       "    }\n",
       "</style>\n",
       "<table border=\"1\" class=\"dataframe\">\n",
       "  <thead>\n",
       "    <tr style=\"text-align: right;\">\n",
       "      <th></th>\n",
       "      <th>anime_id</th>\n",
       "      <th>Name</th>\n",
       "    </tr>\n",
       "  </thead>\n",
       "  <tbody>\n",
       "    <tr>\n",
       "      <th>0</th>\n",
       "      <td>1</td>\n",
       "      <td>Cowboy Bebop</td>\n",
       "    </tr>\n",
       "    <tr>\n",
       "      <th>1</th>\n",
       "      <td>5</td>\n",
       "      <td>Cowboy Bebop: Tengoku no Tobira</td>\n",
       "    </tr>\n",
       "    <tr>\n",
       "      <th>2</th>\n",
       "      <td>6</td>\n",
       "      <td>Trigun</td>\n",
       "    </tr>\n",
       "    <tr>\n",
       "      <th>3</th>\n",
       "      <td>7</td>\n",
       "      <td>Witch Hunter Robin</td>\n",
       "    </tr>\n",
       "    <tr>\n",
       "      <th>4</th>\n",
       "      <td>8</td>\n",
       "      <td>Bouken Ou Beet</td>\n",
       "    </tr>\n",
       "    <tr>\n",
       "      <th>...</th>\n",
       "      <td>...</td>\n",
       "      <td>...</td>\n",
       "    </tr>\n",
       "    <tr>\n",
       "      <th>10942</th>\n",
       "      <td>47398</td>\n",
       "      <td>Kimetsu Gakuen: Valentine-hen</td>\n",
       "    </tr>\n",
       "    <tr>\n",
       "      <th>10943</th>\n",
       "      <td>47402</td>\n",
       "      <td>Heikousen</td>\n",
       "    </tr>\n",
       "    <tr>\n",
       "      <th>10944</th>\n",
       "      <td>47614</td>\n",
       "      <td>Nu Wushen de Canzhuo Spring Festival Special</td>\n",
       "    </tr>\n",
       "    <tr>\n",
       "      <th>10945</th>\n",
       "      <td>47616</td>\n",
       "      <td>Yakusoku no Neverland 2nd Season: Michishirube</td>\n",
       "    </tr>\n",
       "    <tr>\n",
       "      <th>10946</th>\n",
       "      <td>48456</td>\n",
       "      <td>SK∞: Crazy Rock Jam</td>\n",
       "    </tr>\n",
       "  </tbody>\n",
       "</table>\n",
       "<p>10947 rows × 2 columns</p>\n",
       "</div>"
      ],
      "text/plain": [
       "       anime_id                                            Name\n",
       "0             1                                    Cowboy Bebop\n",
       "1             5                 Cowboy Bebop: Tengoku no Tobira\n",
       "2             6                                          Trigun\n",
       "3             7                              Witch Hunter Robin\n",
       "4             8                                  Bouken Ou Beet\n",
       "...         ...                                             ...\n",
       "10942     47398                   Kimetsu Gakuen: Valentine-hen\n",
       "10943     47402                                       Heikousen\n",
       "10944     47614    Nu Wushen de Canzhuo Spring Festival Special\n",
       "10945     47616  Yakusoku no Neverland 2nd Season: Michishirube\n",
       "10946     48456                             SK∞: Crazy Rock Jam\n",
       "\n",
       "[10947 rows x 2 columns]"
      ]
     },
     "execution_count": 51,
     "metadata": {},
     "output_type": "execute_result"
    }
   ],
   "source": [
    "anime_name_pivot_completed_df"
   ]
  },
  {
   "cell_type": "code",
   "execution_count": null,
   "id": "a0598991",
   "metadata": {},
   "outputs": [],
   "source": []
  },
  {
   "cell_type": "code",
   "execution_count": null,
   "id": "14b7f3b3",
   "metadata": {},
   "outputs": [],
   "source": []
  },
  {
   "cell_type": "code",
   "execution_count": 29,
   "id": "6148739c",
   "metadata": {},
   "outputs": [],
   "source": [
    "def recommendation_10PlusRatings(anime_name, nb_recomendation):\n",
    "    pivot_df = get_data(PIVOT_DF_NAME)\n",
    "    anime_name_pivot_df = get_data(ANIME_NAME_PIVOT_NAME)\n",
    "    model = get_model(MODEL_PATH)\n",
    "    index_nb = anime_name_pivot_df.index[anime_name_pivot_df['Name'] == anime_name].tolist()[0]\n",
    "    distances, indices = model.kneighbors(pivot_df.iloc[index_nb,:].values.reshape(1, -1), n_neighbors = nb_recomendation + 1)\n",
    "\n",
    "    prediction = []\n",
    "    for i in range(1, len(distances.flatten())):\n",
    "        prediction.append([pivot_df.index[indices.flatten()[i]],distances.flatten()[i]])\n",
    "    results = {}\n",
    "    for i in range(len(prediction)):\n",
    "        anime_name = anime_name_pivot_df.iloc[prediction[i][0]].Name\n",
    "        distance = prediction[i][1]\n",
    "        results[f'{anime_name}'] = distance\n",
    "    return results\n"
   ]
  },
  {
   "cell_type": "code",
   "execution_count": 30,
   "id": "56cfdb71",
   "metadata": {},
   "outputs": [
    {
     "data": {
      "text/plain": [
       "{'Naruto: Shippuuden': 0.16479568859309957,\n",
       " 'Death Note': 0.28978191191199754,\n",
       " 'Bleach': 0.31862997487679345,\n",
       " 'Shingeki no Kyojin': 0.3200006084059118,\n",
       " 'Fullmetal Alchemist: Brotherhood': 0.34244184214998474}"
      ]
     },
     "execution_count": 30,
     "metadata": {},
     "output_type": "execute_result"
    }
   ],
   "source": [
    "recommendation_10PlusRatings('Naruto', 5)"
   ]
  },
  {
   "cell_type": "code",
   "execution_count": null,
   "id": "6a26749b",
   "metadata": {},
   "outputs": [],
   "source": []
  },
  {
   "cell_type": "code",
   "execution_count": null,
   "id": "0db1c9f2",
   "metadata": {},
   "outputs": [],
   "source": []
  },
  {
   "cell_type": "code",
   "execution_count": null,
   "id": "33b3d174",
   "metadata": {},
   "outputs": [],
   "source": []
  },
  {
   "cell_type": "code",
   "execution_count": null,
   "id": "1097a93d",
   "metadata": {},
   "outputs": [],
   "source": []
  },
  {
   "cell_type": "code",
   "execution_count": null,
   "id": "3407e0a5",
   "metadata": {},
   "outputs": [],
   "source": []
  },
  {
   "cell_type": "code",
   "execution_count": null,
   "id": "1db22bff",
   "metadata": {},
   "outputs": [],
   "source": []
  },
  {
   "cell_type": "code",
   "execution_count": 54,
   "id": "146284ba",
   "metadata": {},
   "outputs": [],
   "source": [
    "import joblib\n",
    "import pandas as pd\n",
    "from sklearn.neighbors import NearestNeighbors\n",
    "\n",
    "\n",
    "NOTATION_MODEL_PATH = \"../data/anime_map_data_animelist_100plus_PG_knn_model.joblib\"\n",
    "NOTATION_PIVOT_DF_NAME = \"anime_map_data_animelist_100plus_PG_PCA_vector_df\"\n",
    "NOTATION_ANIME_NAME_PIVOT_NAME = \"anime_map_data_animelist_100plus_PG_anime_name_pivot_df\"\n",
    "\n",
    "RATING_COMPLETED_MODEL_PATH = \"../data/anime_map_data_rating_complete_100plus_PG_knn_model.joblib\"\n",
    "RATING_COMPLETED_PIVOT_DF_NAME = \"anime_map_data_rating_complete_100plus_PG_PCA_vector_df\"\n",
    "RATING_COMPLETED_ANIME_NAME_PIVOT_NAME = \"anime_map_data_rating_complete_100plus_PG_anime_name_pivot_df\"\n",
    "\n",
    "\n",
    "def get_data(name_file):\n",
    "    data = pd.read_csv(f'../data/{name_file}.csv')\n",
    "    return data\n",
    "\n",
    "def get_model(path):\n",
    "    return joblib.load(path)\n",
    "\n",
    "def recommendation_10PlusRatings(anime_name, nb_recomendation, model):\n",
    "    if model == 'notation':\n",
    "        pivot_df = get_data(NOTATION_PIVOT_DF_NAME)\n",
    "        anime_name_pivot_df = get_data(NOTATION_ANIME_NAME_PIVOT_NAME)\n",
    "        model = get_model(NOTATION_MODEL_PATH)\n",
    "    elif model == 'completed':\n",
    "        pivot_df = get_data(RATING_COMPLETED_ANIME_NAME_PIVOT_NAME)\n",
    "        anime_name_pivot_df = get_data(RATING_COMPLETED_PIVOT_DF_NAME)\n",
    "        model = get_model(RATING_COMPLETED_MODEL_PATH)\n",
    "\n",
    "    index_nb = anime_name_pivot_df.index[anime_name_pivot_df['Name'] == anime_name].tolist()[0]\n",
    "    distances, indices = model.kneighbors(pivot_df.iloc[index_nb,:].values.reshape(1, -1), n_neighbors = nb_recomendation + 1)\n",
    "    \n",
    "    prediction = []\n",
    "    for i in range(1, len(distances.flatten())):\n",
    "        prediction.append([pivot_df.index[indices.flatten()[i]],distances.flatten()[i]])\n",
    "    results = {}\n",
    "    for i in range(len(prediction)):\n",
    "        anime_name = anime_name_pivot_df.iloc[prediction[i][0]].Name\n",
    "        distance = prediction[i][1]\n",
    "        results[f'{anime_name}'] = distance\n",
    "    return results"
   ]
  },
  {
   "cell_type": "code",
   "execution_count": 42,
   "id": "22014d4d",
   "metadata": {},
   "outputs": [
    {
     "data": {
      "text/plain": [
       "{'Naruto: Shippuuden': 0.16479568859309957,\n",
       " 'Death Note': 0.28978191191199754,\n",
       " 'Bleach': 0.31862997487679345,\n",
       " 'Shingeki no Kyojin': 0.3200006084059118,\n",
       " 'Fullmetal Alchemist: Brotherhood': 0.34244184214998474,\n",
       " 'Sword Art Online': 0.3471770420949094,\n",
       " 'Code Geass: Hangyaku no Lelouch': 0.36965757726627224,\n",
       " 'One Punch Man': 0.37465993577686285,\n",
       " 'Tokyo Ghoul': 0.3842327761099542,\n",
       " 'Fairy Tail': 0.38772256888731504}"
      ]
     },
     "execution_count": 42,
     "metadata": {},
     "output_type": "execute_result"
    }
   ],
   "source": [
    "recommendation_10PlusRatings('Naruto', 10, 'notation')"
   ]
  },
  {
   "cell_type": "code",
   "execution_count": 55,
   "id": "789578c1",
   "metadata": {},
   "outputs": [],
   "source": [
    "anime_name_pivot_df = get_data(RATING_COMPLETED_ANIME_NAME_PIVOT_NAME)"
   ]
  },
  {
   "cell_type": "code",
   "execution_count": 56,
   "id": "de690176",
   "metadata": {},
   "outputs": [
    {
     "data": {
      "text/html": [
       "<div>\n",
       "<style scoped>\n",
       "    .dataframe tbody tr th:only-of-type {\n",
       "        vertical-align: middle;\n",
       "    }\n",
       "\n",
       "    .dataframe tbody tr th {\n",
       "        vertical-align: top;\n",
       "    }\n",
       "\n",
       "    .dataframe thead th {\n",
       "        text-align: right;\n",
       "    }\n",
       "</style>\n",
       "<table border=\"1\" class=\"dataframe\">\n",
       "  <thead>\n",
       "    <tr style=\"text-align: right;\">\n",
       "      <th></th>\n",
       "      <th>anime_id</th>\n",
       "      <th>Name</th>\n",
       "    </tr>\n",
       "  </thead>\n",
       "  <tbody>\n",
       "    <tr>\n",
       "      <th>0</th>\n",
       "      <td>1</td>\n",
       "      <td>Cowboy Bebop</td>\n",
       "    </tr>\n",
       "    <tr>\n",
       "      <th>1</th>\n",
       "      <td>5</td>\n",
       "      <td>Cowboy Bebop: Tengoku no Tobira</td>\n",
       "    </tr>\n",
       "    <tr>\n",
       "      <th>2</th>\n",
       "      <td>6</td>\n",
       "      <td>Trigun</td>\n",
       "    </tr>\n",
       "    <tr>\n",
       "      <th>3</th>\n",
       "      <td>7</td>\n",
       "      <td>Witch Hunter Robin</td>\n",
       "    </tr>\n",
       "    <tr>\n",
       "      <th>4</th>\n",
       "      <td>8</td>\n",
       "      <td>Bouken Ou Beet</td>\n",
       "    </tr>\n",
       "    <tr>\n",
       "      <th>...</th>\n",
       "      <td>...</td>\n",
       "      <td>...</td>\n",
       "    </tr>\n",
       "    <tr>\n",
       "      <th>10942</th>\n",
       "      <td>47398</td>\n",
       "      <td>Kimetsu Gakuen: Valentine-hen</td>\n",
       "    </tr>\n",
       "    <tr>\n",
       "      <th>10943</th>\n",
       "      <td>47402</td>\n",
       "      <td>Heikousen</td>\n",
       "    </tr>\n",
       "    <tr>\n",
       "      <th>10944</th>\n",
       "      <td>47614</td>\n",
       "      <td>Nu Wushen de Canzhuo Spring Festival Special</td>\n",
       "    </tr>\n",
       "    <tr>\n",
       "      <th>10945</th>\n",
       "      <td>47616</td>\n",
       "      <td>Yakusoku no Neverland 2nd Season: Michishirube</td>\n",
       "    </tr>\n",
       "    <tr>\n",
       "      <th>10946</th>\n",
       "      <td>48456</td>\n",
       "      <td>SK∞: Crazy Rock Jam</td>\n",
       "    </tr>\n",
       "  </tbody>\n",
       "</table>\n",
       "<p>10947 rows × 2 columns</p>\n",
       "</div>"
      ],
      "text/plain": [
       "       anime_id                                            Name\n",
       "0             1                                    Cowboy Bebop\n",
       "1             5                 Cowboy Bebop: Tengoku no Tobira\n",
       "2             6                                          Trigun\n",
       "3             7                              Witch Hunter Robin\n",
       "4             8                                  Bouken Ou Beet\n",
       "...         ...                                             ...\n",
       "10942     47398                   Kimetsu Gakuen: Valentine-hen\n",
       "10943     47402                                       Heikousen\n",
       "10944     47614    Nu Wushen de Canzhuo Spring Festival Special\n",
       "10945     47616  Yakusoku no Neverland 2nd Season: Michishirube\n",
       "10946     48456                             SK∞: Crazy Rock Jam\n",
       "\n",
       "[10947 rows x 2 columns]"
      ]
     },
     "execution_count": 56,
     "metadata": {},
     "output_type": "execute_result"
    }
   ],
   "source": [
    "anime_name_pivot_df"
   ]
  },
  {
   "cell_type": "code",
   "execution_count": null,
   "id": "310f8159",
   "metadata": {},
   "outputs": [],
   "source": []
  },
  {
   "cell_type": "code",
   "execution_count": 57,
   "id": "ea75e526",
   "metadata": {},
   "outputs": [
    {
     "ename": "KeyError",
     "evalue": "'Name'",
     "output_type": "error",
     "traceback": [
      "\u001b[0;31m---------------------------------------------------------------------------\u001b[0m",
      "\u001b[0;31mKeyError\u001b[0m                                  Traceback (most recent call last)",
      "\u001b[0;32m~/.local/lib/python3.9/site-packages/pandas/core/indexes/base.py\u001b[0m in \u001b[0;36mget_loc\u001b[0;34m(self, key, method, tolerance)\u001b[0m\n\u001b[1;32m   3360\u001b[0m             \u001b[0;32mtry\u001b[0m\u001b[0;34m:\u001b[0m\u001b[0;34m\u001b[0m\u001b[0;34m\u001b[0m\u001b[0m\n\u001b[0;32m-> 3361\u001b[0;31m                 \u001b[0;32mreturn\u001b[0m \u001b[0mself\u001b[0m\u001b[0;34m.\u001b[0m\u001b[0m_engine\u001b[0m\u001b[0;34m.\u001b[0m\u001b[0mget_loc\u001b[0m\u001b[0;34m(\u001b[0m\u001b[0mcasted_key\u001b[0m\u001b[0;34m)\u001b[0m\u001b[0;34m\u001b[0m\u001b[0;34m\u001b[0m\u001b[0m\n\u001b[0m\u001b[1;32m   3362\u001b[0m             \u001b[0;32mexcept\u001b[0m \u001b[0mKeyError\u001b[0m \u001b[0;32mas\u001b[0m \u001b[0merr\u001b[0m\u001b[0;34m:\u001b[0m\u001b[0;34m\u001b[0m\u001b[0;34m\u001b[0m\u001b[0m\n",
      "\u001b[0;32m~/.local/lib/python3.9/site-packages/pandas/_libs/index.pyx\u001b[0m in \u001b[0;36mpandas._libs.index.IndexEngine.get_loc\u001b[0;34m()\u001b[0m\n",
      "\u001b[0;32m~/.local/lib/python3.9/site-packages/pandas/_libs/index.pyx\u001b[0m in \u001b[0;36mpandas._libs.index.IndexEngine.get_loc\u001b[0;34m()\u001b[0m\n",
      "\u001b[0;32mpandas/_libs/hashtable_class_helper.pxi\u001b[0m in \u001b[0;36mpandas._libs.hashtable.PyObjectHashTable.get_item\u001b[0;34m()\u001b[0m\n",
      "\u001b[0;32mpandas/_libs/hashtable_class_helper.pxi\u001b[0m in \u001b[0;36mpandas._libs.hashtable.PyObjectHashTable.get_item\u001b[0;34m()\u001b[0m\n",
      "\u001b[0;31mKeyError\u001b[0m: 'Name'",
      "\nThe above exception was the direct cause of the following exception:\n",
      "\u001b[0;31mKeyError\u001b[0m                                  Traceback (most recent call last)",
      "\u001b[0;32m/tmp/ipykernel_25320/1109571673.py\u001b[0m in \u001b[0;36m<module>\u001b[0;34m\u001b[0m\n\u001b[0;32m----> 1\u001b[0;31m \u001b[0mrecommendation_10PlusRatings\u001b[0m\u001b[0;34m(\u001b[0m\u001b[0;34m'Naruto'\u001b[0m\u001b[0;34m,\u001b[0m \u001b[0;36m10\u001b[0m\u001b[0;34m,\u001b[0m \u001b[0;34m'completed'\u001b[0m\u001b[0;34m)\u001b[0m\u001b[0;34m\u001b[0m\u001b[0;34m\u001b[0m\u001b[0m\n\u001b[0m",
      "\u001b[0;32m/tmp/ipykernel_25320/3048541471.py\u001b[0m in \u001b[0;36mrecommendation_10PlusRatings\u001b[0;34m(anime_name, nb_recomendation, model)\u001b[0m\n\u001b[1;32m     30\u001b[0m         \u001b[0mmodel\u001b[0m \u001b[0;34m=\u001b[0m \u001b[0mget_model\u001b[0m\u001b[0;34m(\u001b[0m\u001b[0mRATING_COMPLETED_MODEL_PATH\u001b[0m\u001b[0;34m)\u001b[0m\u001b[0;34m\u001b[0m\u001b[0;34m\u001b[0m\u001b[0m\n\u001b[1;32m     31\u001b[0m \u001b[0;34m\u001b[0m\u001b[0m\n\u001b[0;32m---> 32\u001b[0;31m     \u001b[0mindex_nb\u001b[0m \u001b[0;34m=\u001b[0m \u001b[0manime_name_pivot_df\u001b[0m\u001b[0;34m.\u001b[0m\u001b[0mindex\u001b[0m\u001b[0;34m[\u001b[0m\u001b[0manime_name_pivot_df\u001b[0m\u001b[0;34m[\u001b[0m\u001b[0;34m'Name'\u001b[0m\u001b[0;34m]\u001b[0m \u001b[0;34m==\u001b[0m \u001b[0manime_name\u001b[0m\u001b[0;34m]\u001b[0m\u001b[0;34m.\u001b[0m\u001b[0mtolist\u001b[0m\u001b[0;34m(\u001b[0m\u001b[0;34m)\u001b[0m\u001b[0;34m[\u001b[0m\u001b[0;36m0\u001b[0m\u001b[0;34m]\u001b[0m\u001b[0;34m\u001b[0m\u001b[0;34m\u001b[0m\u001b[0m\n\u001b[0m\u001b[1;32m     33\u001b[0m     \u001b[0mdistances\u001b[0m\u001b[0;34m,\u001b[0m \u001b[0mindices\u001b[0m \u001b[0;34m=\u001b[0m \u001b[0mmodel\u001b[0m\u001b[0;34m.\u001b[0m\u001b[0mkneighbors\u001b[0m\u001b[0;34m(\u001b[0m\u001b[0mpivot_df\u001b[0m\u001b[0;34m.\u001b[0m\u001b[0miloc\u001b[0m\u001b[0;34m[\u001b[0m\u001b[0mindex_nb\u001b[0m\u001b[0;34m,\u001b[0m\u001b[0;34m:\u001b[0m\u001b[0;34m]\u001b[0m\u001b[0;34m.\u001b[0m\u001b[0mvalues\u001b[0m\u001b[0;34m.\u001b[0m\u001b[0mreshape\u001b[0m\u001b[0;34m(\u001b[0m\u001b[0;36m1\u001b[0m\u001b[0;34m,\u001b[0m \u001b[0;34m-\u001b[0m\u001b[0;36m1\u001b[0m\u001b[0;34m)\u001b[0m\u001b[0;34m,\u001b[0m \u001b[0mn_neighbors\u001b[0m \u001b[0;34m=\u001b[0m \u001b[0mnb_recomendation\u001b[0m \u001b[0;34m+\u001b[0m \u001b[0;36m1\u001b[0m\u001b[0;34m)\u001b[0m\u001b[0;34m\u001b[0m\u001b[0;34m\u001b[0m\u001b[0m\n\u001b[1;32m     34\u001b[0m \u001b[0;34m\u001b[0m\u001b[0m\n",
      "\u001b[0;32m~/.local/lib/python3.9/site-packages/pandas/core/frame.py\u001b[0m in \u001b[0;36m__getitem__\u001b[0;34m(self, key)\u001b[0m\n\u001b[1;32m   3453\u001b[0m             \u001b[0;32mif\u001b[0m \u001b[0mself\u001b[0m\u001b[0;34m.\u001b[0m\u001b[0mcolumns\u001b[0m\u001b[0;34m.\u001b[0m\u001b[0mnlevels\u001b[0m \u001b[0;34m>\u001b[0m \u001b[0;36m1\u001b[0m\u001b[0;34m:\u001b[0m\u001b[0;34m\u001b[0m\u001b[0;34m\u001b[0m\u001b[0m\n\u001b[1;32m   3454\u001b[0m                 \u001b[0;32mreturn\u001b[0m \u001b[0mself\u001b[0m\u001b[0;34m.\u001b[0m\u001b[0m_getitem_multilevel\u001b[0m\u001b[0;34m(\u001b[0m\u001b[0mkey\u001b[0m\u001b[0;34m)\u001b[0m\u001b[0;34m\u001b[0m\u001b[0;34m\u001b[0m\u001b[0m\n\u001b[0;32m-> 3455\u001b[0;31m             \u001b[0mindexer\u001b[0m \u001b[0;34m=\u001b[0m \u001b[0mself\u001b[0m\u001b[0;34m.\u001b[0m\u001b[0mcolumns\u001b[0m\u001b[0;34m.\u001b[0m\u001b[0mget_loc\u001b[0m\u001b[0;34m(\u001b[0m\u001b[0mkey\u001b[0m\u001b[0;34m)\u001b[0m\u001b[0;34m\u001b[0m\u001b[0;34m\u001b[0m\u001b[0m\n\u001b[0m\u001b[1;32m   3456\u001b[0m             \u001b[0;32mif\u001b[0m \u001b[0mis_integer\u001b[0m\u001b[0;34m(\u001b[0m\u001b[0mindexer\u001b[0m\u001b[0;34m)\u001b[0m\u001b[0;34m:\u001b[0m\u001b[0;34m\u001b[0m\u001b[0;34m\u001b[0m\u001b[0m\n\u001b[1;32m   3457\u001b[0m                 \u001b[0mindexer\u001b[0m \u001b[0;34m=\u001b[0m \u001b[0;34m[\u001b[0m\u001b[0mindexer\u001b[0m\u001b[0;34m]\u001b[0m\u001b[0;34m\u001b[0m\u001b[0;34m\u001b[0m\u001b[0m\n",
      "\u001b[0;32m~/.local/lib/python3.9/site-packages/pandas/core/indexes/base.py\u001b[0m in \u001b[0;36mget_loc\u001b[0;34m(self, key, method, tolerance)\u001b[0m\n\u001b[1;32m   3361\u001b[0m                 \u001b[0;32mreturn\u001b[0m \u001b[0mself\u001b[0m\u001b[0;34m.\u001b[0m\u001b[0m_engine\u001b[0m\u001b[0;34m.\u001b[0m\u001b[0mget_loc\u001b[0m\u001b[0;34m(\u001b[0m\u001b[0mcasted_key\u001b[0m\u001b[0;34m)\u001b[0m\u001b[0;34m\u001b[0m\u001b[0;34m\u001b[0m\u001b[0m\n\u001b[1;32m   3362\u001b[0m             \u001b[0;32mexcept\u001b[0m \u001b[0mKeyError\u001b[0m \u001b[0;32mas\u001b[0m \u001b[0merr\u001b[0m\u001b[0;34m:\u001b[0m\u001b[0;34m\u001b[0m\u001b[0;34m\u001b[0m\u001b[0m\n\u001b[0;32m-> 3363\u001b[0;31m                 \u001b[0;32mraise\u001b[0m \u001b[0mKeyError\u001b[0m\u001b[0;34m(\u001b[0m\u001b[0mkey\u001b[0m\u001b[0;34m)\u001b[0m \u001b[0;32mfrom\u001b[0m \u001b[0merr\u001b[0m\u001b[0;34m\u001b[0m\u001b[0;34m\u001b[0m\u001b[0m\n\u001b[0m\u001b[1;32m   3364\u001b[0m \u001b[0;34m\u001b[0m\u001b[0m\n\u001b[1;32m   3365\u001b[0m         \u001b[0;32mif\u001b[0m \u001b[0mis_scalar\u001b[0m\u001b[0;34m(\u001b[0m\u001b[0mkey\u001b[0m\u001b[0;34m)\u001b[0m \u001b[0;32mand\u001b[0m \u001b[0misna\u001b[0m\u001b[0;34m(\u001b[0m\u001b[0mkey\u001b[0m\u001b[0;34m)\u001b[0m \u001b[0;32mand\u001b[0m \u001b[0;32mnot\u001b[0m \u001b[0mself\u001b[0m\u001b[0;34m.\u001b[0m\u001b[0mhasnans\u001b[0m\u001b[0;34m:\u001b[0m\u001b[0;34m\u001b[0m\u001b[0;34m\u001b[0m\u001b[0m\n",
      "\u001b[0;31mKeyError\u001b[0m: 'Name'"
     ]
    }
   ],
   "source": [
    "recommendation_10PlusRatings('Naruto', 10, 'completed')"
   ]
  },
  {
   "cell_type": "markdown",
   "id": "bed45b4e",
   "metadata": {},
   "source": [
    "# Last version\n"
   ]
  },
  {
   "cell_type": "markdown",
   "id": "3f2b96a7",
   "metadata": {},
   "source": [
    "## add anime_id & update results to add anime_id in json"
   ]
  },
  {
   "cell_type": "code",
   "execution_count": 22,
   "id": "dfae7efb",
   "metadata": {},
   "outputs": [],
   "source": [
    "import joblib\n",
    "import pandas as pd\n",
    "from sklearn.neighbors import NearestNeighbors\n",
    "\n",
    "\n",
    "NOTATION_MODEL_PATH = \"../data/anime_map_data_animelist_100plus_PG_knn_model.joblib\"\n",
    "NOTATION_PIVOT_DF_NAME = \"anime_map_data_animelist_100plus_PG_PCA_vector_df\"\n",
    "NOTATION_ANIME_NAME_PIVOT_NAME = \"anime_map_data_animelist_100plus_PG_anime_name_pivot_df\"\n",
    "\n",
    "RATING_COMPLETED_MODEL_PATH = \"../data/anime_map_data_rating_complete_100plus_PG_knn_model.joblib\"\n",
    "RATING_COMPLETED_PIVOT_DF_NAME = \"anime_map_data_rating_complete_100plus_PG_PCA_vector_df\"\n",
    "RATING_COMPLETED_ANIME_NAME_PIVOT_NAME = \"anime_map_data_rating_complete_100plus_PG_anime_name_pivot_df\"\n",
    "\n",
    "\n",
    "def get_data(name_file):\n",
    "    data = pd.read_csv(f'../data/{name_file}.csv')\n",
    "    return data\n",
    "\n",
    "def get_model(path):\n",
    "    return joblib.load(path)\n",
    "\n",
    "def recommendation_10PlusRatings(anime_name, nb_recomendation):\n",
    "    pivot_df = get_data(NOTATION_PIVOT_DF_NAME)\n",
    "    anime_name_pivot_df = get_data(NOTATION_ANIME_NAME_PIVOT_NAME)\n",
    "    model = get_model(NOTATION_MODEL_PATH)\n",
    "\n",
    "\n",
    "    index_nb = anime_name_pivot_df.index[anime_name_pivot_df['Name'] == anime_name].tolist()[0]\n",
    "    distances, indices = model.kneighbors(pivot_df.iloc[index_nb,:].values.reshape(1, -1), n_neighbors = nb_recomendation + 1)\n",
    "    \n",
    "    prediction = []\n",
    "    for i in range(1, len(distances.flatten())):\n",
    "        prediction.append([pivot_df.index[indices.flatten()[i]],distances.flatten()[i]])\n",
    "    results = {}\n",
    "    for i in range(len(prediction)):\n",
    "        # add anime_id & update results to add anime_id in json\n",
    "        anime_name = anime_name_pivot_df.iloc[prediction[i][0]].Name\n",
    "        anime_id = anime_name_pivot_df.iloc[prediction[i][0]].anime_id\n",
    "        distance = prediction[i][1]\n",
    "        results[f'{anime_name}'] = {'distance': distance, 'anime_id' : anime_id}\n",
    "    return results\n",
    "\n",
    "\n"
   ]
  },
  {
   "cell_type": "code",
   "execution_count": 17,
   "id": "642de9ca",
   "metadata": {},
   "outputs": [
    {
     "data": {
      "text/html": [
       "<div>\n",
       "<style scoped>\n",
       "    .dataframe tbody tr th:only-of-type {\n",
       "        vertical-align: middle;\n",
       "    }\n",
       "\n",
       "    .dataframe tbody tr th {\n",
       "        vertical-align: top;\n",
       "    }\n",
       "\n",
       "    .dataframe thead th {\n",
       "        text-align: right;\n",
       "    }\n",
       "</style>\n",
       "<table border=\"1\" class=\"dataframe\">\n",
       "  <thead>\n",
       "    <tr style=\"text-align: right;\">\n",
       "      <th></th>\n",
       "      <th>anime_id</th>\n",
       "      <th>Name</th>\n",
       "    </tr>\n",
       "  </thead>\n",
       "  <tbody>\n",
       "    <tr>\n",
       "      <th>0</th>\n",
       "      <td>1</td>\n",
       "      <td>Cowboy Bebop</td>\n",
       "    </tr>\n",
       "    <tr>\n",
       "      <th>1</th>\n",
       "      <td>5</td>\n",
       "      <td>Cowboy Bebop: Tengoku no Tobira</td>\n",
       "    </tr>\n",
       "    <tr>\n",
       "      <th>2</th>\n",
       "      <td>6</td>\n",
       "      <td>Trigun</td>\n",
       "    </tr>\n",
       "    <tr>\n",
       "      <th>3</th>\n",
       "      <td>7</td>\n",
       "      <td>Witch Hunter Robin</td>\n",
       "    </tr>\n",
       "    <tr>\n",
       "      <th>4</th>\n",
       "      <td>8</td>\n",
       "      <td>Bouken Ou Beet</td>\n",
       "    </tr>\n",
       "    <tr>\n",
       "      <th>...</th>\n",
       "      <td>...</td>\n",
       "      <td>...</td>\n",
       "    </tr>\n",
       "    <tr>\n",
       "      <th>10942</th>\n",
       "      <td>47398</td>\n",
       "      <td>Kimetsu Gakuen: Valentine-hen</td>\n",
       "    </tr>\n",
       "    <tr>\n",
       "      <th>10943</th>\n",
       "      <td>47402</td>\n",
       "      <td>Heikousen</td>\n",
       "    </tr>\n",
       "    <tr>\n",
       "      <th>10944</th>\n",
       "      <td>47614</td>\n",
       "      <td>Nu Wushen de Canzhuo Spring Festival Special</td>\n",
       "    </tr>\n",
       "    <tr>\n",
       "      <th>10945</th>\n",
       "      <td>47616</td>\n",
       "      <td>Yakusoku no Neverland 2nd Season: Michishirube</td>\n",
       "    </tr>\n",
       "    <tr>\n",
       "      <th>10946</th>\n",
       "      <td>48456</td>\n",
       "      <td>SK∞: Crazy Rock Jam</td>\n",
       "    </tr>\n",
       "  </tbody>\n",
       "</table>\n",
       "<p>10947 rows × 2 columns</p>\n",
       "</div>"
      ],
      "text/plain": [
       "       anime_id                                            Name\n",
       "0             1                                    Cowboy Bebop\n",
       "1             5                 Cowboy Bebop: Tengoku no Tobira\n",
       "2             6                                          Trigun\n",
       "3             7                              Witch Hunter Robin\n",
       "4             8                                  Bouken Ou Beet\n",
       "...         ...                                             ...\n",
       "10942     47398                   Kimetsu Gakuen: Valentine-hen\n",
       "10943     47402                                       Heikousen\n",
       "10944     47614    Nu Wushen de Canzhuo Spring Festival Special\n",
       "10945     47616  Yakusoku no Neverland 2nd Season: Michishirube\n",
       "10946     48456                             SK∞: Crazy Rock Jam\n",
       "\n",
       "[10947 rows x 2 columns]"
      ]
     },
     "execution_count": 17,
     "metadata": {},
     "output_type": "execute_result"
    }
   ],
   "source": [
    "get_data(RATING_COMPLETED_ANIME_NAME_PIVOT_NAME)"
   ]
  },
  {
   "cell_type": "code",
   "execution_count": 24,
   "id": "0b6fc22d",
   "metadata": {},
   "outputs": [],
   "source": [
    "result = recommendation_10PlusRatings('Cowboy Bebop', 10)"
   ]
  },
  {
   "cell_type": "code",
   "execution_count": 30,
   "id": "84fe436a",
   "metadata": {},
   "outputs": [
    {
     "data": {
      "text/plain": [
       "{'Samurai Champloo': {'distance': 0.3805723268402532, 'anime_id': 205},\n",
       " 'Cowboy Bebop: Tengoku no Tobira': {'distance': 0.39646133981958054,\n",
       "  'anime_id': 5},\n",
       " 'Neon Genesis Evangelion': {'distance': 0.40337796274787074, 'anime_id': 30},\n",
       " 'Tengen Toppa Gurren Lagann': {'distance': 0.418607496450369,\n",
       "  'anime_id': 2001},\n",
       " 'Death Note': {'distance': 0.43934515752334347, 'anime_id': 1535},\n",
       " 'FLCL': {'distance': 0.4395010086087435, 'anime_id': 227},\n",
       " 'Trigun': {'distance': 0.44110443159952506, 'anime_id': 6},\n",
       " 'Fullmetal Alchemist: Brotherhood': {'distance': 0.44708171983283784,\n",
       "  'anime_id': 5114},\n",
       " 'Akira': {'distance': 0.4499154004011452, 'anime_id': 47},\n",
       " 'Code Geass: Hangyaku no Lelouch': {'distance': 0.45451363937797506,\n",
       "  'anime_id': 1575}}"
      ]
     },
     "execution_count": 30,
     "metadata": {},
     "output_type": "execute_result"
    }
   ],
   "source": [
    "result"
   ]
  },
  {
   "cell_type": "code",
   "execution_count": 29,
   "id": "6f39e9a3",
   "metadata": {
    "scrolled": true
   },
   "outputs": [
    {
     "data": {
      "text/plain": [
       "205"
      ]
     },
     "execution_count": 29,
     "metadata": {},
     "output_type": "execute_result"
    }
   ],
   "source": [
    "result['Samurai Champloo']['anime_id']"
   ]
  },
  {
   "cell_type": "code",
   "execution_count": null,
   "id": "c8493f30",
   "metadata": {},
   "outputs": [],
   "source": []
  }
 ],
 "metadata": {
  "kernelspec": {
   "display_name": "anime_map",
   "language": "python",
   "name": "anime_map"
  },
  "language_info": {
   "codemirror_mode": {
    "name": "ipython",
    "version": 3
   },
   "file_extension": ".py",
   "mimetype": "text/x-python",
   "name": "python",
   "nbconvert_exporter": "python",
   "pygments_lexer": "ipython3",
   "version": "3.9.6"
  },
  "toc": {
   "base_numbering": 1,
   "nav_menu": {},
   "number_sections": true,
   "sideBar": true,
   "skip_h1_title": false,
   "title_cell": "Table of Contents",
   "title_sidebar": "Contents",
   "toc_cell": false,
   "toc_position": {},
   "toc_section_display": true,
   "toc_window_display": false
  }
 },
 "nbformat": 4,
 "nbformat_minor": 5
}
